{
  "nbformat": 4,
  "nbformat_minor": 0,
  "metadata": {
    "colab": {
      "name": "mnist_nn",
      "provenance": [],
      "collapsed_sections": [],
      "machine_shape": "hm"
    },
    "kernelspec": {
      "name": "python3",
      "display_name": "Python 3"
    },
    "accelerator": "GPU"
  },
  "cells": [
    {
      "cell_type": "code",
      "metadata": {
        "id": "h3CnztKolUWR",
        "colab_type": "code",
        "outputId": "2b96f10b-7f0f-4826-9976-0353e63a7bca",
        "colab": {
          "base_uri": "https://localhost:8080/",
          "height": 121
        }
      },
      "source": [
        "from google.colab import drive\n",
        "drive.mount('/content/drive')"
      ],
      "execution_count": 1,
      "outputs": [
        {
          "output_type": "stream",
          "text": [
            "Go to this URL in a browser: https://accounts.google.com/o/oauth2/auth?client_id=947318989803-6bn6qk8qdgf4n4g3pfee6491hc0brc4i.apps.googleusercontent.com&redirect_uri=urn%3Aietf%3Awg%3Aoauth%3A2.0%3Aoob&scope=email%20https%3A%2F%2Fwww.googleapis.com%2Fauth%2Fdocs.test%20https%3A%2F%2Fwww.googleapis.com%2Fauth%2Fdrive%20https%3A%2F%2Fwww.googleapis.com%2Fauth%2Fdrive.photos.readonly%20https%3A%2F%2Fwww.googleapis.com%2Fauth%2Fpeopleapi.readonly&response_type=code\n",
            "\n",
            "Enter your authorization code:\n",
            "··········\n",
            "Mounted at /content/drive\n"
          ],
          "name": "stdout"
        }
      ]
    },
    {
      "cell_type": "code",
      "metadata": {
        "id": "C0uF2HIdOhZc",
        "colab_type": "code",
        "colab": {}
      },
      "source": [
        "import numpy as np\n",
        "import matplotlib.pylab as plt\n",
        "from sklearn.preprocessing import OneHotEncoder\n",
        "import pandas as pd\n",
        "from sklearn.model_selection import train_test_split\n",
        "import argparse\n",
        "import random\n",
        "import pandas as pd\n",
        "import matplotlib.pyplot as plt\n",
        "import seaborn as sns\n",
        "import math\n",
        "\n",
        "%matplotlib inline"
      ],
      "execution_count": 0,
      "outputs": []
    },
    {
      "cell_type": "code",
      "metadata": {
        "id": "-rpqfXsvOq56",
        "colab_type": "code",
        "colab": {}
      },
      "source": [
        "class Neural_Net(object):\n",
        "    def __init__(self, layers):\n",
        "        self.dims = layers[0]\n",
        "        self.activations = layers[1]\n",
        "        self.params = {}\n",
        "        self.L = len(self.dims)\n",
        "        self.n = 0\n",
        "        self.losses = []\n",
        "        self.cache = {}\n",
        "\n",
        "\n",
        "    def init_params(self):\n",
        "        np.random.seed(1)\n",
        "\n",
        "        for l in range(0, len(self.dims) - 1):\n",
        "            self.params[\"W\" + str(l+1)] = np.random.randn(self.dims[l+1], self.dims[l]) / np.sqrt(\n",
        "                self.dims[l])\n",
        "            self.params[\"b\" + str(l+1)] = np.zeros((self.dims[l+1], 1))\n",
        "\n",
        "\n",
        "    def relu(self, Z):\n",
        "        return np.maximum(0,Z)\n",
        "\n",
        "\n",
        "    def sigmoid(self, Z):\n",
        "        return 1 / (1 + np.exp(-Z))\n",
        "\n",
        "\n",
        "    def softmax(self, Z):\n",
        "        expZ = np.exp(Z - np.max(Z))\n",
        "        return expZ / expZ.sum(axis=0, keepdims=True)\n",
        "\n",
        "\n",
        "    def activation(self, Z, activations):\n",
        "        if activations == 'sigmoid':\n",
        "            A = self.sigmoid(Z)\n",
        "        elif activations == 'relu':\n",
        "            A = self.relu(Z)\n",
        "        elif activations == 'softmax':\n",
        "            A = self.softmax(Z)\n",
        "        return A\n",
        "\n",
        "    def forward(self, X):\n",
        "        # cache = {}\n",
        "\n",
        "        A = X.T\n",
        "\n",
        "        for l in range(self.L - 1):\n",
        "            Z = self.params[\"W\" + str(l + 1)].dot(A) + self.params[\"b\" + str(l + 1)]\n",
        "            A = self.activation(Z, self.activations[l])\n",
        "\n",
        "            self.cache[\"A\" + str(l + 1)] = A\n",
        "            self.cache[\"W\" + str(l + 1)] = self.params[\"W\" + str(l + 1)]\n",
        "            self.cache[\"Z\" + str(l + 1)] = Z\n",
        "\n",
        "        Z = self.params[\"W\" + str(self.L)].dot(A) + self.params[\"b\" + str(self.L)]\n",
        "        A = self.activation(Z, self.activations[self.L - 1])\n",
        "\n",
        "        self.cache[\"A\" + str(self.L)] = A\n",
        "        self.cache[\"W\" + str(self.L)] = self.params[\"W\" + str(self.L)]\n",
        "        self.cache[\"Z\" + str(self.L)] = Z\n",
        "\n",
        "        return A\n",
        "\n",
        "\n",
        "    def sigmoid_derivative(self, Z):\n",
        "        s = 1 / (1 + np.exp(-Z))\n",
        "        return s * (1 - s)\n",
        "\n",
        "\n",
        "    def relu_derivative(self, Z):\n",
        "        Z[Z<=0] = 0\n",
        "        Z[Z>0] = 1\n",
        "        return Z\n",
        "\n",
        "\n",
        "    def activation_derivative(self, Z, activations):\n",
        "        if activations == 'sigmoid':\n",
        "            dZ = self.sigmoid_derivative(Z)\n",
        "        elif activations == 'relu':\n",
        "            dZ = self.relu_derivative(Z)\n",
        "        elif activations == 'softmax':\n",
        "            dZ = 1\n",
        "        return dZ\n",
        "\n",
        "\n",
        "    def compute_loss(self, y, y_hat):\n",
        "        return  -np.sum(y*np.log(y_hat.T))/self.n\n",
        "\n",
        "\n",
        "    def backward(self, X, Y):\n",
        "        derivatives = {}\n",
        "        self.cache[\"A0\"] = X.T\n",
        "\n",
        "        A = self.cache[\"A\" + str(self.L)]\n",
        "        dZ = (A - Y.T)*(self.activation_derivative(self.cache[\"Z\" + str(self.L)], self.activations[self.L - 1])) / self.n\n",
        "\n",
        "        dW = dZ.dot(self.cache[\"A\" + str(self.L - 1)].T)\n",
        "        db = np.sum(dZ, axis=1, keepdims=True)\n",
        "        dA_prev = self.cache[\"W\" + str(self.L)].T.dot(dZ) \n",
        "\n",
        "        derivatives[\"dW\" + str(self.L)] = dW\n",
        "        derivatives[\"db\" + str(self.L)] = db\n",
        "\n",
        "        for l in range(self.L - 1, 0, -1):\n",
        "            dZ = dA_prev * self.activation_derivative(self.cache[\"Z\" + str(l)], self.activations[ l - 1])\n",
        "            dW = dZ.dot(self.cache[\"A\" + str(l - 1)].T)\n",
        "            db = np.sum(dZ, axis=1, keepdims=True)\n",
        "            if l > 1:\n",
        "                dA_prev = self.cache[\"W\" + str(l)].T.dot(dZ)\n",
        "            derivatives[\"dW\" + str(l)] = dW\n",
        "            derivatives[\"db\" + str(l)] = db\n",
        "\n",
        "        return derivatives\n",
        "\n",
        "\n",
        "    def update_weight(self, derivatives, lr):\n",
        " \n",
        "        # update weight\n",
        "        for l in range(1, self.L + 1):\n",
        "            self.params[\"W\" + str(l)] = self.params[\"W\" + str(l)] - lr * derivatives[\n",
        "                \"dW\" + str(l)]\n",
        "            self.params[\"b\" + str(l)] = self.params[\"b\" + str(l)] - lr * derivatives[\n",
        "                \"db\" + str(l)]\n",
        "\n",
        "\n",
        "    def random_mini_batches(self,X,y,mini_batch_size):\n",
        "        m = X.shape[0]\n",
        "        mini_batches = []\n",
        "        permutation = list(np.random.permutation(m))\n",
        "        shuffled_X = X[permutation,:]\n",
        "        shuffled_Y = y[permutation,:]\n",
        "\n",
        "        # Step 2: Partition (shuffled_X, shuffled_Y). Minus the end case.\n",
        "        num_complete_minibatches = math.floor(\n",
        "            m / mini_batch_size)  # number of mini batches of size mini_batch_size in your partitionning\n",
        " \n",
        "        for k in range(0, num_complete_minibatches):\n",
        "            mini_batch_X = shuffled_X[ k * mini_batch_size: (k + 1) * mini_batch_size,:]\n",
        "            mini_batch_Y = shuffled_Y[ k * mini_batch_size: (k + 1) * mini_batch_size,:]\n",
        "            mini_batch = (mini_batch_X, mini_batch_Y)\n",
        "            mini_batches.append(mini_batch)\n",
        "\n",
        "        # Handling the end case (last mini-batch < mini_batch_size)\n",
        "        if m % mini_batch_size != 0:\n",
        "            mini_batch_X = shuffled_X[num_complete_minibatches * mini_batch_size: m,:]\n",
        "            mini_batch_Y = shuffled_Y[num_complete_minibatches * mini_batch_size: m,:]\n",
        "            mini_batch = (mini_batch_X, mini_batch_Y)\n",
        "            mini_batches.append(mini_batch)\n",
        "\n",
        "        return mini_batches\n",
        "\n",
        "\n",
        "    def fit(self, X, Y, lr=0.01, epochs=20, batch_size=32):\n",
        "        np.random.seed(1)\n",
        "        self.n = batch_size\n",
        "        self.dims.insert(0, X.shape[1])\n",
        "        self.init_params()\n",
        "\n",
        "        for e in range(epochs):\n",
        "            mini_batches = self.random_mini_batches(X, Y, batch_size)\n",
        "\n",
        "            for mini_batch_X, mini_batch_Y in mini_batches:\n",
        "                A = self.forward(mini_batch_X)\n",
        "                loss = self.compute_loss(mini_batch_Y, A)\n",
        "                derivatives = self.backward(mini_batch_X, mini_batch_Y)\n",
        "                self.update_weight(derivatives, lr)\n",
        "\n",
        "            self.losses.append(loss)\n",
        "            # print(\"Epochs\",e + 1,\"/\", epochs, \" - loss:\", loss, \" - acc:\", self.evaluate(X, Y))\n",
        "            print(\"Epochs %d/%d - loss: %.5f - acc: %.5f\" % (e+1, epochs, loss, self.evaluate(X, Y)))\n",
        "\n",
        "    def predict(self, X):\n",
        "        A = self.forward(X)\n",
        "        y_hat = np.argmax(A, axis=0)\n",
        "        return y_hat\n",
        "\n",
        "\n",
        "    def evaluate(self, X, Y):\n",
        "        y_hat = self.predict(X)\n",
        "        Y = np.argmax(Y, axis=1)\n",
        "        accuracy = (y_hat == Y).mean()\n",
        "        return accuracy * 100\n",
        "\n",
        "\n",
        "    def plot_loss(self):\n",
        "        plt.figure()\n",
        "        plt.plot(np.arange(len(self.losses)), self.losses)\n",
        "        plt.xlabel(\"epochs\")\n",
        "        plt.ylabel(\"loss\")\n",
        "        plt.show()"
      ],
      "execution_count": 0,
      "outputs": []
    },
    {
      "cell_type": "code",
      "metadata": {
        "id": "hB_b0PkHOt-v",
        "colab_type": "code",
        "colab": {}
      },
      "source": [
        "def pre_process_data(X_train, y_train, X_val, y_val, X_test):\n",
        "\n",
        "    enc = OneHotEncoder(sparse=False)\n",
        "    y_train = enc.fit_transform(y_train.reshape(len(y_train), -1))\n",
        "\n",
        "    y_val = enc.transform(y_val.reshape(len(y_val), -1))\n",
        "\n",
        "    return X_train, y_train, X_val, y_val, X_test"
      ],
      "execution_count": 0,
      "outputs": []
    },
    {
      "cell_type": "code",
      "metadata": {
        "id": "sJUuiwNZOuoC",
        "colab_type": "code",
        "colab": {}
      },
      "source": [
        "def load_data(path):\n",
        "    df_train = pd.read_csv(path + 'train.csv')\n",
        "    df_test = pd.read_csv(path + 'test.csv')\n",
        "\n",
        "    df_features = df_train.iloc[:, 1:785]\n",
        "    df_label = df_train.iloc[:, 0]\n",
        "\n",
        "    X_test = df_test.iloc[:, 0:784]\n",
        "\n",
        "    X_train, X_cv, y_train, y_cv = train_test_split(df_features, df_label, \n",
        "                                                test_size = 0.2,\n",
        "                                                random_state = 1212)\n",
        "\n",
        "\n",
        "    X_train = np.array(X_train).reshape(33600, 784)\n",
        "    X_cv = np.array(X_cv).reshape(8400, 784)\n",
        "    X_test = np.array(X_test).reshape(28000, 784)\n",
        "    \n",
        "    # Feature Normalization \n",
        "    X_train = X_train.astype('float32'); X_cv= X_cv.astype('float32'); X_test = X_test.astype('float32')\n",
        "    X_train /= 255; X_cv /= 255; X_test /= 255\n",
        "    y_train = np.array(y_train)\n",
        "    y_cv = np.array(y_cv)\n",
        "    return X_train, y_train, X_cv, y_cv, X_test"
      ],
      "execution_count": 0,
      "outputs": []
    },
    {
      "cell_type": "code",
      "metadata": {
        "id": "CXP2Hdw3ycL9",
        "colab_type": "code",
        "outputId": "5a79c38e-e5db-410d-d712-0037274b6ecd",
        "colab": {
          "base_uri": "https://localhost:8080/",
          "height": 138
        }
      },
      "source": [
        "X_train, y_train, X_val, y_val, X_test = load_data('/content/drive/My Drive/digit-recognizer/')\n",
        "X_train, y_train, X_val, y_val, X_test = pre_process_data(X_train, y_train, X_val, y_val, X_test)\n",
        "print(\"X_train's shape: \" + str(X_train.shape))\n",
        "print(\"X_val's shape: \" + str(X_val.shape))"
      ],
      "execution_count": 6,
      "outputs": [
        {
          "output_type": "stream",
          "text": [
            "X_train's shape: (33600, 784)\n",
            "X_val's shape: (8400, 784)\n"
          ],
          "name": "stdout"
        },
        {
          "output_type": "stream",
          "text": [
            "/usr/local/lib/python3.6/dist-packages/sklearn/preprocessing/_encoders.py:415: FutureWarning: The handling of integer data will change in version 0.22. Currently, the categories are determined based on the range [0, max(values)], while in the future they will be determined based on the unique values.\n",
            "If you want the future behaviour and silence this warning, you can specify \"categories='auto'\".\n",
            "In case you used a LabelEncoder before this OneHotEncoder to convert the categories to integers, then you can now use the OneHotEncoder directly.\n",
            "  warnings.warn(msg, FutureWarning)\n"
          ],
          "name": "stderr"
        }
      ]
    },
    {
      "cell_type": "code",
      "metadata": {
        "id": "8t2dfUNGOwvx",
        "colab_type": "code",
        "colab": {}
      },
      "source": [
        "# Build neural network\n",
        "layers_dims = [1000, 10]\n",
        "act_fucntion = ['relu', 'softmax']\n",
        "layers = (layers_dims, act_fucntion)\n",
        "net = Neural_Net(layers)"
      ],
      "execution_count": 0,
      "outputs": []
    },
    {
      "cell_type": "code",
      "metadata": {
        "id": "yJ6WZV4v3qL0",
        "colab_type": "code",
        "outputId": "0cd1da6f-f0a2-4d27-fc6b-492135bea9b1",
        "colab": {
          "base_uri": "https://localhost:8080/",
          "height": 1000
        }
      },
      "source": [
        "%%time\n",
        "# Train network\n",
        "net.fit(X_train, y_train, lr = 0.1, epochs=50, batch_size=32)\n",
        "print(\"Train Accuracy: %.5f\" % net.evaluate(X_train, y_train))\n",
        "print(\"Test Accuracy: %.5f\" % net.evaluate(X_val, y_val))\n",
        "net.plot_loss()"
      ],
      "execution_count": 31,
      "outputs": [
        {
          "output_type": "stream",
          "text": [
            "Epochs 1/50 - loss: 0.14733 - acc: 93.83036\n",
            "Epochs 2/50 - loss: 0.20904 - acc: 96.36310\n",
            "Epochs 3/50 - loss: 0.03464 - acc: 97.48512\n",
            "Epochs 4/50 - loss: 0.06322 - acc: 98.18750\n",
            "Epochs 5/50 - loss: 0.02483 - acc: 98.54167\n",
            "Epochs 6/50 - loss: 0.02772 - acc: 98.96131\n",
            "Epochs 7/50 - loss: 0.01347 - acc: 99.14286\n",
            "Epochs 8/50 - loss: 0.01462 - acc: 99.41667\n",
            "Epochs 9/50 - loss: 0.02324 - acc: 99.49405\n",
            "Epochs 10/50 - loss: 0.00571 - acc: 99.53571\n",
            "Epochs 11/50 - loss: 0.01660 - acc: 99.79167\n",
            "Epochs 12/50 - loss: 0.00925 - acc: 99.81845\n",
            "Epochs 13/50 - loss: 0.00890 - acc: 99.88393\n",
            "Epochs 14/50 - loss: 0.01139 - acc: 99.93452\n",
            "Epochs 15/50 - loss: 0.02911 - acc: 99.96131\n",
            "Epochs 16/50 - loss: 0.01101 - acc: 99.97917\n",
            "Epochs 17/50 - loss: 0.00355 - acc: 99.98512\n",
            "Epochs 18/50 - loss: 0.00575 - acc: 99.98810\n",
            "Epochs 19/50 - loss: 0.01149 - acc: 99.99107\n",
            "Epochs 20/50 - loss: 0.00511 - acc: 99.98810\n",
            "Epochs 21/50 - loss: 0.00487 - acc: 99.99107\n",
            "Epochs 22/50 - loss: 0.00487 - acc: 99.99405\n",
            "Epochs 23/50 - loss: 0.00507 - acc: 100.00000\n",
            "Epochs 24/50 - loss: 0.04398 - acc: 99.97321\n",
            "Epochs 25/50 - loss: 0.00246 - acc: 100.00000\n",
            "Epochs 26/50 - loss: 0.00073 - acc: 100.00000\n",
            "Epochs 27/50 - loss: 0.00192 - acc: 100.00000\n",
            "Epochs 28/50 - loss: 0.00045 - acc: 100.00000\n",
            "Epochs 29/50 - loss: 0.00133 - acc: 100.00000\n",
            "Epochs 30/50 - loss: 0.00015 - acc: 100.00000\n",
            "Epochs 31/50 - loss: 0.00033 - acc: 100.00000\n",
            "Epochs 32/50 - loss: 0.00226 - acc: 100.00000\n",
            "Epochs 33/50 - loss: 0.00099 - acc: 100.00000\n",
            "Epochs 34/50 - loss: 0.00187 - acc: 100.00000\n",
            "Epochs 35/50 - loss: 0.00442 - acc: 100.00000\n",
            "Epochs 36/50 - loss: 0.00089 - acc: 100.00000\n",
            "Epochs 37/50 - loss: 0.00566 - acc: 100.00000\n",
            "Epochs 38/50 - loss: 0.00232 - acc: 100.00000\n",
            "Epochs 39/50 - loss: 0.00190 - acc: 100.00000\n",
            "Epochs 40/50 - loss: 0.00095 - acc: 100.00000\n",
            "Epochs 41/50 - loss: 0.00272 - acc: 100.00000\n",
            "Epochs 42/50 - loss: 0.00285 - acc: 100.00000\n",
            "Epochs 43/50 - loss: 0.00301 - acc: 100.00000\n",
            "Epochs 44/50 - loss: 0.00017 - acc: 100.00000\n",
            "Epochs 45/50 - loss: 0.00006 - acc: 100.00000\n",
            "Epochs 46/50 - loss: 0.00239 - acc: 100.00000\n",
            "Epochs 47/50 - loss: 0.00228 - acc: 100.00000\n",
            "Epochs 48/50 - loss: 0.00202 - acc: 100.00000\n",
            "Epochs 49/50 - loss: 0.00092 - acc: 100.00000\n",
            "Epochs 50/50 - loss: 0.00066 - acc: 100.00000\n",
            "Train Accuracy: 100.00000\n",
            "Test Accuracy: 98.03571\n"
          ],
          "name": "stdout"
        },
        {
          "output_type": "display_data",
          "data": {
            "image/png": "[encoded data removed]",
            "text/plain": [
              "<Figure size 432x288 with 1 Axes>"
            ]
          },
          "metadata": {
            "tags": []
          }
        },
        {
          "output_type": "stream",
          "text": [
            "CPU times: user 19min 32s, sys: 12min 11s, total: 31min 43s\n",
            "Wall time: 8min 15s\n"
          ],
          "name": "stdout"
        }
      ]
    },
    {
      "cell_type": "code",
      "metadata": {
        "id": "R1C7prHytbfn",
        "colab_type": "code",
        "colab": {}
      },
      "source": [
        "# Predict with test data\n",
        "y_hat = net.predict(X_test)"
      ],
      "execution_count": 0,
      "outputs": []
    },
    {
      "cell_type": "code",
      "metadata": {
        "id": "c2P9XMxlxsQj",
        "colab_type": "code",
        "outputId": "a18b3f7c-3c11-40ae-cffa-12f7f182921a",
        "colab": {
          "base_uri": "https://localhost:8080/",
          "height": 119
        }
      },
      "source": [
        "random_indexes = random.sample(range(X_test.shape[0]),5)\n",
        "#Visualizing the orginal images\n",
        "fig, axes = plt.subplots(nrows=1, ncols=5)\n",
        "original_images = [X_test[i].reshape((28, 28)) for i in random_indexes]\n",
        "i = 0\n",
        "for ax in axes:\n",
        "    ax.imshow(original_images[i], cmap ='gist_gray')\n",
        "    i += 1\n",
        "fig.tight_layout()\n",
        "print(y_hat[random_indexes])"
      ],
      "execution_count": 24,
      "outputs": [
        {
          "output_type": "stream",
          "text": [
            "[3 1 8 3 3]\n"
          ],
          "name": "stdout"
        },
        {
          "output_type": "display_data",
          "data": {
            "image/png": "[encoded data removed]",
            "text/plain": [
              "<Figure size 432x288 with 5 Axes>"
            ]
          },
          "metadata": {
            "tags": []
          }
        }
      ]
    },
    {
      "cell_type": "code",
      "metadata": {
        "id": "1n10Lo7TsFYw",
        "colab_type": "code",
        "colab": {}
      },
      "source": [
        "df = pd.DataFrame({'ImageId': np.arange(1, y_hat.shape[0]+ 1), 'Label': y_hat[:]})"
      ],
      "execution_count": 0,
      "outputs": []
    },
    {
      "cell_type": "code",
      "metadata": {
        "id": "lUK1I3YcsGvL",
        "colab_type": "code",
        "colab": {}
      },
      "source": [
        "export_csv = df.to_csv (r'submission.csv', index = None, header=True)"
      ],
      "execution_count": 0,
      "outputs": []
    },
    {
      "cell_type": "code",
      "metadata": {
        "id": "Y8PefseAU3ok",
        "colab_type": "code",
        "outputId": "bd693b5b-4d82-4bb6-ef0c-10b517ccc937",
        "colab": {
          "base_uri": "https://localhost:8080/",
          "height": 541
        }
      },
      "source": [
        "%%time\n",
        "!python mnist_ann.py --path '/content/drive/My Drive/digit-recognizer/' --lr=0.1 --epochs=20 --batch_size=32"
      ],
      "execution_count": 0,
      "outputs": [
        {
          "output_type": "stream",
          "text": [
            "/usr/local/lib/python3.6/dist-packages/sklearn/preprocessing/_encoders.py:415: FutureWarning: The handling of integer data will change in version 0.22. Currently, the categories are determined based on the range [0, max(values)], while in the future they will be determined based on the unique values.\n",
            "If you want the future behaviour and silence this warning, you can specify \"categories='auto'\".\n",
            "In case you used a LabelEncoder before this OneHotEncoder to convert the categories to integers, then you can now use the OneHotEncoder directly.\n",
            "  warnings.warn(msg, FutureWarning)\n",
            "X_train's shape: (33600, 784)\n",
            "X_val's shape: (8400, 784)\n",
            "Epochs 1/20 - loss: 0.14733 - acc: 93.83036\n",
            "Epochs 2/20 - loss: 0.20904 - acc: 96.36310\n",
            "Epochs 3/20 - loss: 0.03464 - acc: 97.48512\n",
            "Epochs 4/20 - loss: 0.06322 - acc: 98.18750\n",
            "Epochs 5/20 - loss: 0.02483 - acc: 98.54167\n",
            "Epochs 6/20 - loss: 0.02772 - acc: 98.96131\n",
            "Epochs 7/20 - loss: 0.01347 - acc: 99.14286\n",
            "Epochs 8/20 - loss: 0.01462 - acc: 99.41667\n",
            "Epochs 9/20 - loss: 0.02324 - acc: 99.49405\n",
            "Epochs 10/20 - loss: 0.00571 - acc: 99.53571\n",
            "Epochs 11/20 - loss: 0.01660 - acc: 99.79167\n",
            "Epochs 12/20 - loss: 0.00925 - acc: 99.81845\n",
            "Epochs 13/20 - loss: 0.00890 - acc: 99.88393\n",
            "Epochs 14/20 - loss: 0.01139 - acc: 99.93452\n",
            "Epochs 15/20 - loss: 0.02911 - acc: 99.96131\n",
            "Epochs 16/20 - loss: 0.01101 - acc: 99.97917\n",
            "Epochs 17/20 - loss: 0.00355 - acc: 99.98512\n",
            "Epochs 18/20 - loss: 0.00575 - acc: 99.98810\n",
            "Epochs 19/20 - loss: 0.01149 - acc: 99.99107\n",
            "Epochs 20/20 - loss: 0.00511 - acc: 99.98810\n",
            "Train Accuracy: 99.98809523809524\n",
            "Test Accuracy: 97.95238095238096\n",
            "CPU times: user 1.14 s, sys: 160 ms, total: 1.3 s\n",
            "Wall time: 3min 32s\n"
          ],
          "name": "stdout"
        }
      ]
    }
  ]
}